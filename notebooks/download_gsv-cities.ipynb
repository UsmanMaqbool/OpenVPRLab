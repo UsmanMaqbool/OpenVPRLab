{
 "cells": [
  {
   "cell_type": "markdown",
   "metadata": {},
   "source": [
    "### GSV-Cities dataset download script\n",
    "\n",
    "In this notebook, we will download GSV-Cities dataset **without** Kaggle API key or login.  \n",
    "The official kaggle page for GSV-Cities is: https://www.kaggle.com/datasets/amaralibey/gsv-cities  \n",
    "If you have a Kaggle account, please give it an **Upvote**.\n",
    "\n",
    "**NOTE**: the dataset size is 23GB, make sure you have enough space on your disk.  \n",
    "You also have the option to download the dataset from command line when running the training for the first time.\n",
    "\n",
    "\n",
    "\n",
    "___"
   ]
  },
  {
   "cell_type": "markdown",
   "metadata": {},
   "source": [
    "##### Bibtex code for citation:\n",
    "<small>\n",
    "\n",
    "```bibtex\n",
    "@article{ali2022gsv,\n",
    "    title={{GSV-Cities}: Toward appropriate supervised visual place recognition},\n",
    "    author={Ali-bey, Amar and Chaib-draa, Brahim and Gigu{\\`e}re, Philippe},\n",
    "    journal={Neurocomputing},\n",
    "    volume={513},\n",
    "    pages={194--203},\n",
    "    year={2022},\n",
    "    publisher={Elsevier}\n",
    "}\n",
    "```\n",
    "___"
   ]
  },
  {
   "cell_type": "code",
   "execution_count": 2,
   "metadata": {},
   "outputs": [],
   "source": [
    "# First, choose where to save the gsv-cities dataset\n",
    "save_path = \"../data/train/gsv-cities\""
   ]
  },
  {
   "cell_type": "code",
   "execution_count": 52,
   "metadata": {},
   "outputs": [],
   "source": [
    "# We can actually download public datasets directly from kaggle \n",
    "# without authentification using the kaggle CLI\n",
    "# but first, make sure you have it installed\n",
    "! pip install kaggle"
   ]
  },
  {
   "cell_type": "code",
   "execution_count": 3,
   "metadata": {},
   "outputs": [
    {
     "name": "stdout",
     "output_type": "stream",
     "text": [
      "Dataset URL: https://www.kaggle.com/datasets/amaralibey/gsv-cities\n",
      "License(s): Attribution-NonCommercial-NoDerivatives 4.0 International (CC BY-NC-ND 4.0)\n",
      "Downloading gsv-cities.zip to ../data/train\n",
      "100%|█████████████████████████████████████▉| 21.8G/21.8G [09:09<00:00, 42.3MB/s]\n",
      "100%|██████████████████████████████████████| 21.8G/21.8G [09:09<00:00, 42.6MB/s]\n"
     ]
    }
   ],
   "source": [
    "# start the download, and unzip the dataset\n",
    "! kaggle datasets download \"amaralibey/gsv-cities\" -p {save_path} --unzip\n"
   ]
  },
  {
   "cell_type": "markdown",
   "metadata": {},
   "source": [
    "#### Hard code the path to GSV-Cities into `config.yaml`"
   ]
  },
  {
   "cell_type": "code",
   "execution_count": 3,
   "metadata": {},
   "outputs": [],
   "source": [
    "import yaml\n",
    "from pathlib import Path\n",
    "\n",
    "# Now that the download is complete, we will write the path to the config file\n",
    "\n",
    "with open(\"../config/data/config.yaml\", \"r\") as f:\n",
    "    config = yaml.safe_load(f)\n",
    "\n",
    "\n",
    "# we need the absolute path to the dataset\n",
    "save_path = Path(save_path).resolve().as_posix()\n",
    "\n",
    "config[\"train\"][\"gsv_cities\"] = save_path\n",
    "\n",
    "with open('../config/data/config.yaml', 'w') as f:\n",
    "    yaml.dump(config, f)"
   ]
  },
  {
   "cell_type": "code",
   "execution_count": 4,
   "metadata": {},
   "outputs": [
    {
     "name": "stdout",
     "output_type": "stream",
     "text": [
      "/home/amar/work/DeepVPRLab/data/train/gsv-cities\n"
     ]
    }
   ],
   "source": [
    "print(config[\"gsv_cities_path\"])"
   ]
  },
  {
   "cell_type": "markdown",
   "metadata": {},
   "source": [
    "### ALL DONE!"
   ]
  }
 ],
 "metadata": {
  "kernelspec": {
   "display_name": "vpr",
   "language": "python",
   "name": "python3"
  },
  "language_info": {
   "codemirror_mode": {
    "name": "ipython",
    "version": 3
   },
   "file_extension": ".py",
   "mimetype": "text/x-python",
   "name": "python",
   "nbconvert_exporter": "python",
   "pygments_lexer": "ipython3",
   "version": "3.10.14"
  }
 },
 "nbformat": 4,
 "nbformat_minor": 2
}
